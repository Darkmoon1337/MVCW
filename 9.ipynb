{
 "cells": [
  {
   "cell_type": "code",
   "execution_count": 1,
   "id": "initial_id",
   "metadata": {
    "collapsed": true,
    "ExecuteTime": {
     "end_time": "2023-12-12T09:35:48.720822400Z",
     "start_time": "2023-12-12T09:35:48.705033300Z"
    }
   },
   "outputs": [
    {
     "name": "stdout",
     "output_type": "stream",
     "text": [
      "dataset E:\\MV-coursework\\Car\n"
     ]
    }
   ],
   "source": [
    "dataset_path = 'E:\\\\MV-coursework\\\\Car_Logo_Dataset_testset'\n",
    "dataset_name = dataset_path.split('_')[0]\n",
    "print('dataset', dataset_name)"
   ]
  },
  {
   "cell_type": "code",
   "execution_count": 6,
   "outputs": [],
   "source": [
    "import shutil\n",
    "import random\n",
    "import pandas as pd\n",
    "import os"
   ],
   "metadata": {
    "collapsed": false,
    "ExecuteTime": {
     "end_time": "2023-12-12T09:36:22.701820900Z",
     "start_time": "2023-12-12T09:36:22.686067400Z"
    }
   },
   "id": "3f5492bcce9297"
  },
  {
   "cell_type": "code",
   "execution_count": 7,
   "outputs": [],
   "source": [
    "classes = os.listdir(dataset_path)"
   ],
   "metadata": {
    "collapsed": false,
    "ExecuteTime": {
     "end_time": "2023-12-12T09:36:23.688034Z",
     "start_time": "2023-12-12T09:36:23.680795500Z"
    }
   },
   "id": "2a8c13fe021168ba"
  },
  {
   "cell_type": "code",
   "execution_count": 8,
   "outputs": [
    {
     "data": {
      "text/plain": "32"
     },
     "execution_count": 8,
     "metadata": {},
     "output_type": "execute_result"
    }
   ],
   "source": [
    "len(classes)"
   ],
   "metadata": {
    "collapsed": false,
    "ExecuteTime": {
     "end_time": "2023-12-12T09:36:25.037884800Z",
     "start_time": "2023-12-12T09:36:25.022880200Z"
    }
   },
   "id": "92ce48ffffc38bd3"
  },
  {
   "cell_type": "code",
   "execution_count": 9,
   "outputs": [],
   "source": [
    "os.makedirs(os.path.join(dataset_path, 'train'), exist_ok=True)\n",
    "os.makedirs(os.path.join(dataset_path, 'test'), exist_ok=True)\n",
    "os.makedirs(os.path.join(dataset_path, 'val'), exist_ok=True)\n",
    "for PlantVillage in classes:\n",
    "    os.makedirs(os.path.join(dataset_path, 'train', PlantVillage), exist_ok=True)\n",
    "    os.makedirs(os.path.join(dataset_path, 'test', PlantVillage), exist_ok=True)\n",
    "    os.makedirs(os.path.join(dataset_path, 'val', PlantVillage), exist_ok=True)"
   ],
   "metadata": {
    "collapsed": false,
    "ExecuteTime": {
     "end_time": "2023-12-12T09:36:34.887595100Z",
     "start_time": "2023-12-12T09:36:34.870528400Z"
    }
   },
   "id": "dc6d011babc8446e"
  },
  {
   "cell_type": "code",
   "execution_count": 10,
   "outputs": [],
   "source": [
    "test_frac = 0.15\n",
    "val_frac = 0.15\n",
    "random.seed(123)"
   ],
   "metadata": {
    "collapsed": false,
    "ExecuteTime": {
     "end_time": "2023-12-12T09:36:38.782223800Z",
     "start_time": "2023-12-12T09:36:38.767403200Z"
    }
   },
   "id": "7f2e36009cb8bc5a"
  },
  {
   "cell_type": "code",
   "execution_count": 11,
   "outputs": [
    {
     "name": "stdout",
     "output_type": "stream",
     "text": [
      "    categories     training set number   val set number    test set number  \n",
      "     1-Volvo              350                 75                 75        \n",
      "      10-BMW              350                 75                 75        \n",
      "     11-Jeep              350                 75                 75        \n",
      "      12-Kia              350                 75                 75        \n",
      "    13-Citroen            350                 75                 75        \n",
      "  14-Land Rover           350                 75                 75        \n",
      "     15-Lexus             350                 75                 75        \n",
      "     16-Mazda             350                 75                 75        \n",
      "   17-Mercedes            350                 75                 75        \n",
      "     18-Mini              350                 75                 75        \n",
      "  19-Mitsubishi           350                 75                 75        \n",
      "   2-Volkswagen           350                 75                 75        \n",
      "    20-Nissan             350                 75                 75        \n",
      "     21-Opel              350                 75                 75        \n",
      "    22-Peugeot            350                 75                 75        \n",
      "    23-Renault            350                 75                 75        \n",
      "     24-Seat              350                 75                 75        \n",
      "      25-GMC              350                 75                 75        \n",
      "     26-Smart             350                 75                 75        \n",
      "    27-Subaru             350                 75                 75        \n",
      "    28-Suzuki             350                 75                 75        \n",
      "     29-Tesla             350                 75                 75        \n",
      "    3-Hyundai             350                 75                 75        \n",
      "    30-Toyota             350                 75                 75        \n",
      "  31-Alfa Romeo           350                 75                 75        \n",
      "     32-Acura             350                 75                 75        \n",
      "     4-Lancia             350                 75                 75        \n",
      "     5-Dacia              350                 75                 75        \n",
      "     6-Daewoo             350                 75                 75        \n",
      "      7-Ford              350                 75                 75        \n",
      "     8-Skoda              350                 75                 75        \n",
      "     9-Honda              350                 75                 75        \n"
     ]
    }
   ],
   "source": [
    "import os\n",
    "import random\n",
    "import shutil\n",
    "import pandas as pd\n",
    "\n",
    "# Create a DataFrame\n",
    "df = pd.DataFrame()\n",
    "\n",
    "print('{:^18} {:^18} {:^18} {:^18}'.format('categories', 'training set number', 'val set number', 'test set number'))\n",
    "\n",
    "for PlantVillage in classes:\n",
    "    old_dir = os.path.join(dataset_path, PlantVillage)\n",
    "    images_filename = os.listdir(old_dir)\n",
    "    random.shuffle(images_filename) \n",
    "\n",
    "    testset_number = int(len(images_filename) * test_frac) \n",
    "    valset_number = int(len(images_filename) * val_frac)   \n",
    "    testset_images = images_filename[:testset_number]    \n",
    "    valset_images = images_filename[testset_number:testset_number + valset_number] \n",
    "    trainset_images = images_filename[testset_number + valset_number:] \n",
    "\n",
    "    for image in testset_images:\n",
    "        old_img_path = os.path.join(dataset_path, PlantVillage, image)     \n",
    "        new_test_path = os.path.join(dataset_path, 'test', PlantVillage, image) \n",
    "        shutil.move(old_img_path, new_test_path) \n",
    "\n",
    "    for image in valset_images:\n",
    "        old_img_path = os.path.join(dataset_path, PlantVillage, image)           \n",
    "        new_val_path = os.path.join(dataset_path, 'val', PlantVillage, image) \n",
    "        shutil.move(old_img_path, new_val_path) \n",
    "\n",
    "    for image in trainset_images:\n",
    "        old_img_path = os.path.join(dataset_path, PlantVillage, image)        \n",
    "        new_train_path = os.path.join(dataset_path, 'train', PlantVillage, image) \n",
    "        shutil.move(old_img_path, new_train_path)\n",
    "\n",
    "    assert len(os.listdir(old_dir)) == 0 \n",
    "    shutil.rmtree(old_dir) \n",
    "\n",
    "    print('{:^18} {:^18} {:^18} {:^18}'.format(PlantVillage, len(trainset_images),len(valset_images), len(testset_images)))\n",
    "\n",
    "    new_row = {'class': PlantVillage, 'trainset': len(trainset_images), 'valset': len(valset_images), 'testset': len(testset_images)}\n",
    "    df = pd.concat([df, pd.DataFrame(new_row, index=[0])], ignore_index=True)\n",
    "\n",
    "shutil.move(dataset_path, dataset_name+'_split')\n",
    "\n",
    "df['total'] = df['trainset'] + df['valset'] + df['testset']\n",
    "df.to_csv('Data volume statistics.csv', index=False)"
   ],
   "metadata": {
    "collapsed": false,
    "ExecuteTime": {
     "end_time": "2023-12-12T09:36:47.251450700Z",
     "start_time": "2023-12-12T09:36:43.735503100Z"
    }
   },
   "id": "1703480d0ebf6136"
  },
  {
   "cell_type": "code",
   "execution_count": 12,
   "outputs": [],
   "source": [
    "dataset_dir = 'Car_split_testset'"
   ],
   "metadata": {
    "collapsed": false,
    "ExecuteTime": {
     "end_time": "2023-12-12T09:37:07.847302300Z",
     "start_time": "2023-12-12T09:37:07.821954500Z"
    }
   },
   "id": "8836cdf570fffea9"
  },
  {
   "cell_type": "code",
   "execution_count": 13,
   "outputs": [],
   "source": [
    "import os\n",
    "from keras.preprocessing.image import ImageDataGenerator"
   ],
   "metadata": {
    "collapsed": false,
    "ExecuteTime": {
     "end_time": "2023-12-12T09:37:22.443757500Z",
     "start_time": "2023-12-12T09:37:17.756764700Z"
    }
   },
   "id": "1d19ef4f6fd96cb1"
  },
  {
   "cell_type": "code",
   "execution_count": 14,
   "outputs": [
    {
     "name": "stdout",
     "output_type": "stream",
     "text": [
      "trainpath Car_split_testset\\train\n",
      "valpath Car_split_testset\\val\n",
      "testpath Car_split_testset\\test\n"
     ]
    }
   ],
   "source": [
    "train_dir = os.path.join(dataset_dir, 'train')\n",
    "val_dir = os.path.join(dataset_dir, 'val')\n",
    "test_dir = os.path.join(dataset_dir, 'test')\n",
    "print('trainpath', train_dir)\n",
    "print('valpath', val_dir)\n",
    "print('testpath', test_dir)"
   ],
   "metadata": {
    "collapsed": false,
    "ExecuteTime": {
     "end_time": "2023-12-12T09:37:22.970957700Z",
     "start_time": "2023-12-12T09:37:22.968193900Z"
    }
   },
   "id": "f1887435f7f963ad"
  }
 ],
 "metadata": {
  "kernelspec": {
   "display_name": "Python 3",
   "language": "python",
   "name": "python3"
  },
  "language_info": {
   "codemirror_mode": {
    "name": "ipython",
    "version": 2
   },
   "file_extension": ".py",
   "mimetype": "text/x-python",
   "name": "python",
   "nbconvert_exporter": "python",
   "pygments_lexer": "ipython2",
   "version": "2.7.6"
  }
 },
 "nbformat": 4,
 "nbformat_minor": 5
}
